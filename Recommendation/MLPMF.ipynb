{
 "cells": [
  {
   "cell_type": "markdown",
   "metadata": {},
   "source": [
    "# Recommend movies using Matrix Factorization with Gluon"
   ]
  },
  {
   "cell_type": "code",
   "execution_count": 1,
   "metadata": {
    "slideshow": {
     "slide_type": "fragment"
    }
   },
   "outputs": [
    {
     "name": "stderr",
     "output_type": "stream",
     "text": [
      "/Users/sssokolo/anaconda3/lib/python3.6/site-packages/h5py/__init__.py:36: FutureWarning: Conversion of the second argument of issubdtype from `float` to `np.floating` is deprecated. In future, it will be treated as `np.float64 == np.dtype(float).type`.\n",
      "  from ._conv import register_converters as _register_converters\n"
     ]
    }
   ],
   "source": [
    "import os\n",
    "import mxnet as mx\n",
    "from mxnet import gluon, nd, ndarray\n",
    "\n",
    "import pandas as pd\n",
    "import numpy as np"
   ]
  },
  {
   "cell_type": "markdown",
   "metadata": {
    "slideshow": {
     "slide_type": "slide"
    }
   },
   "source": [
    "# Parameters"
   ]
  },
  {
   "cell_type": "code",
   "execution_count": 2,
   "metadata": {
    "slideshow": {
     "slide_type": "fragment"
    }
   },
   "outputs": [],
   "source": [
    "data_path = '/tmp/ml-100k/'\n",
    "prefix='ml-100k'\n",
    "num_emb = 64\n",
    "opt = 'sgd'\n",
    "lr = 0.02\n",
    "mmntm = 0.\n",
    "wd = 0.\n",
    "batch_size = 50\n",
    "ctx = mx.cpu()"
   ]
  },
  {
   "cell_type": "markdown",
   "metadata": {
    "slideshow": {
     "slide_type": "slide"
    }
   },
   "source": [
    "# Download and Unpack MovieLens Dataset"
   ]
  },
  {
   "cell_type": "code",
   "execution_count": 3,
   "metadata": {
    "slideshow": {
     "slide_type": "subslide"
    }
   },
   "outputs": [
    {
     "name": "stdout",
     "output_type": "stream",
     "text": [
      "unzip /tmp/ml-100k/ml-100k.zip -d /tmp/ml-100k/\n"
     ]
    }
   ],
   "source": [
    "def download_ml_data(prefix, os_path):\n",
    "    if not os.path.exists(os_path+\"%s.zip\" % prefix):\n",
    "        print(\"Downloading MovieLens data: %s\" % prefix)\n",
    "        os.system(\"wget http://files.grouplens.org/datasets/movielens/{}.zip -P {}\".format(prefix, data_path))\n",
    "    print(\"unzip {}{}.zip -d {}\".format(data_path,prefix, data_path))\n",
    "    os.system(\"unzip {}{}.zip -d {}\".format(data_path,prefix, data_path))   \n",
    "\n",
    "\n",
    "download_ml_data(prefix=prefix, os_path=data_path)"
   ]
  },
  {
   "cell_type": "markdown",
   "metadata": {
    "slideshow": {
     "slide_type": "slide"
    }
   },
   "source": [
    "# Find Max UserID and Max ItemID"
   ]
  },
  {
   "cell_type": "code",
   "execution_count": 4,
   "metadata": {
    "slideshow": {
     "slide_type": "fragment"
    }
   },
   "outputs": [
    {
     "name": "stdout",
     "output_type": "stream",
     "text": [
      "Total users: 944. Total items: 1683\n"
     ]
    }
   ],
   "source": [
    "def max_id(fname):\n",
    "    mu = 0\n",
    "    mi = 0\n",
    "    with open(fname) as f:\n",
    "        for line in f:\n",
    "            tks = line.strip().split('\\t')\n",
    "            if len(tks) != 4:\n",
    "                continue\n",
    "            mu = max(mu, int(tks[0]))\n",
    "            mi = max(mi, int(tks[1]))\n",
    "    return mu + 1, mi + 1\n",
    "\n",
    "max_users, max_items = max_id(data_path + prefix  +'/u.data')\n",
    "print('Total users: {}. Total items: {}'.format(max_users, max_items))"
   ]
  },
  {
   "cell_type": "markdown",
   "metadata": {
    "slideshow": {
     "slide_type": "slide"
    }
   },
   "source": [
    "# Converting Data to NDArray"
   ]
  },
  {
   "cell_type": "markdown",
   "metadata": {},
   "source": [
    "Dataset u1.base and u1.test are training and test sets of all data. Each row is: user_id, movie_id, rating, timestamp."
   ]
  },
  {
   "cell_type": "code",
   "execution_count": 5,
   "metadata": {
    "slideshow": {
     "slide_type": "fragment"
    }
   },
   "outputs": [
    {
     "name": "stdout",
     "output_type": "stream",
     "text": [
      "   0  1  2          3\n",
      "0  1  1  5  874965758\n",
      "1  1  2  3  876893171\n",
      "2  1  3  4  878542960\n",
      "3  1  4  3  876893119\n",
      "4  1  5  3  889751712\n"
     ]
    },
    {
     "data": {
      "text/plain": [
       "(\n",
       " [[1. 1.]\n",
       "  [1. 2.]\n",
       "  [1. 3.]\n",
       "  [1. 4.]\n",
       "  [1. 5.]]\n",
       " <NDArray 5x2 @cpu(0)>, \n",
       " [5. 3. 4. 3. 3.]\n",
       " <NDArray 5 @cpu(0)>)"
      ]
     },
     "execution_count": 5,
     "metadata": {},
     "output_type": "execute_result"
    }
   ],
   "source": [
    "train_df = pd.read_csv(data_path + prefix + '/u1.base', header=None, sep='\\t')\n",
    "test_df = pd.read_csv(data_path + prefix + '/u1.test', header=None, sep='\\t')\n",
    "\n",
    "train_data = nd.array(train_df[[0,1]].values, dtype=np.float32)\n",
    "train_label = nd.array(train_df[2].values, dtype=np.float32)\n",
    "\n",
    "test_data = nd.array(test_df[[0,1]].values, dtype=np.float32)\n",
    "test_label = nd.array(test_df[2].values, dtype=np.float32)\n",
    "\n",
    "print(train_df[0:5])\n",
    "(train_data[0:5], train_label[0:5])"
   ]
  },
  {
   "cell_type": "markdown",
   "metadata": {
    "slideshow": {
     "slide_type": "slide"
    }
   },
   "source": [
    "# Creating Dataset"
   ]
  },
  {
   "cell_type": "code",
   "execution_count": 6,
   "metadata": {
    "slideshow": {
     "slide_type": "fragment"
    }
   },
   "outputs": [],
   "source": [
    "class SparseMatrixDataset(gluon.data.Dataset):\n",
    "    def __init__(self, data, label):\n",
    "        assert data.shape[0] == len(label)\n",
    "        self.data = data\n",
    "        self.label = label\n",
    "        if isinstance(label, ndarray.NDArray) and len(label.shape) == 1:\n",
    "            self._label = label.asnumpy()\n",
    "        else:\n",
    "            self._label = label       \n",
    "        \n",
    "    def __getitem__(self, idx):\n",
    "        return self.data[idx, 0], self.data[idx, 1], self.label[idx]\n",
    "    \n",
    "    def __len__(self):\n",
    "        return self.data.shape[0]\n",
    "        "
   ]
  },
  {
   "cell_type": "markdown",
   "metadata": {
    "slideshow": {
     "slide_type": "slide"
    }
   },
   "source": [
    "# Defining the Network"
   ]
  },
  {
   "cell_type": "code",
   "execution_count": 7,
   "metadata": {
    "slideshow": {
     "slide_type": "fragment"
    }
   },
   "outputs": [],
   "source": [
    "class MFBlock(gluon.HybridBlock):\n",
    "    def __init__(self, max_users, max_items, num_emb, dropout_p=0.5):\n",
    "        super(MFBlock, self).__init__()\n",
    "        \n",
    "        self.max_users = max_users\n",
    "        self.max_items = max_items\n",
    "        self.dropout_p = dropout_p\n",
    "        self.num_emb = num_emb\n",
    "        \n",
    "        with self.name_scope():\n",
    "            self.user_embeddings = gluon.nn.Embedding(max_users, num_emb)\n",
    "            self.item_embeddings = gluon.nn.Embedding(max_items, num_emb)\n",
    "            self.dropout = gluon.nn.Dropout(dropout_p)\n",
    "            self.dense = gluon.nn.Dense(num_emb, activation='relu')\n",
    "            \n",
    "    def hybrid_forward(self, F, users, items):\n",
    "        a = self.user_embeddings(users)\n",
    "        a = self.dense(a)\n",
    "        \n",
    "        b = self.item_embeddings(items)\n",
    "        b = self.dense(b)\n",
    "\n",
    "        predictions = self.dropout(a) * self.dropout(b)      \n",
    "        predictions = F.sum(predictions, axis=1)\n",
    "        return predictions\n",
    "\n",
    "        "
   ]
  },
  {
   "cell_type": "markdown",
   "metadata": {
    "slideshow": {
     "slide_type": "slide"
    }
   },
   "source": [
    "# Creating Network"
   ]
  },
  {
   "cell_type": "code",
   "execution_count": 8,
   "metadata": {
    "slideshow": {
     "slide_type": "fragment"
    }
   },
   "outputs": [
    {
     "data": {
      "text/plain": [
       "mfblock0_ (\n",
       "  Parameter mfblock0_embedding0_weight (shape=(944, 64), dtype=float32)\n",
       "  Parameter mfblock0_embedding1_weight (shape=(1683, 64), dtype=float32)\n",
       "  Parameter mfblock0_dense0_weight (shape=(64, 0), dtype=float32)\n",
       "  Parameter mfblock0_dense0_bias (shape=(64,), dtype=float32)\n",
       ")"
      ]
     },
     "execution_count": 8,
     "metadata": {},
     "output_type": "execute_result"
    }
   ],
   "source": [
    "net = MFBlock(max_users=max_users, max_items=max_items, num_emb=num_emb, dropout_p=0.)\n",
    "net.collect_params()"
   ]
  },
  {
   "cell_type": "code",
   "execution_count": 9,
   "metadata": {
    "slideshow": {
     "slide_type": "skip"
    }
   },
   "outputs": [
    {
     "name": "stderr",
     "output_type": "stream",
     "text": [
      "/Users/sssokolo/anaconda3/lib/python3.6/site-packages/mxnet/visualization.py:292: RuntimeWarning: There are multiple variables with the same name in your graph, this may result in cyclic graph. Repeated names: mfblock0_dropout0_fwd,mfblock0_dense0_fwd,mfblock0_dense0_relu_fwd\n",
      "  warnings.warn(warning_message, RuntimeWarning)\n"
     ]
    },
    {
     "data": {
      "image/svg+xml": [
       "<?xml version=\"1.0\" encoding=\"UTF-8\" standalone=\"no\"?>\n",
       "<!DOCTYPE svg PUBLIC \"-//W3C//DTD SVG 1.1//EN\"\n",
       " \"http://www.w3.org/Graphics/SVG/1.1/DTD/svg11.dtd\">\n",
       "<!-- Generated by graphviz version 2.40.1 (20161225.0304)\n",
       " -->\n",
       "<!-- Title: plot Pages: 1 -->\n",
       "<svg width=\"214pt\" height=\"630pt\"\n",
       " viewBox=\"0.00 0.00 214.00 630.00\" xmlns=\"http://www.w3.org/2000/svg\" xmlns:xlink=\"http://www.w3.org/1999/xlink\">\n",
       "<g id=\"graph0\" class=\"graph\" transform=\"scale(1 1) rotate(0) translate(4 626)\">\n",
       "<title>plot</title>\n",
       "<polygon fill=\"#ffffff\" stroke=\"transparent\" points=\"-4,4 -4,-626 210,-626 210,4 -4,4\"/>\n",
       "<!-- user -->\n",
       "<g id=\"node1\" class=\"node\">\n",
       "<title>user</title>\n",
       "<ellipse fill=\"#8dd3c7\" stroke=\"#000000\" cx=\"47\" cy=\"-29\" rx=\"47\" ry=\"29\"/>\n",
       "<text text-anchor=\"middle\" x=\"47\" y=\"-24.8\" font-family=\"Times,serif\" font-size=\"14.00\" fill=\"#000000\">user</text>\n",
       "</g>\n",
       "<!-- mfblock0_embedding0_fwd -->\n",
       "<g id=\"node2\" class=\"node\">\n",
       "<title>mfblock0_embedding0_fwd</title>\n",
       "<polygon fill=\"#fccde5\" stroke=\"#000000\" points=\"94,-152 0,-152 0,-94 94,-94 94,-152\"/>\n",
       "<text text-anchor=\"middle\" x=\"47\" y=\"-118.8\" font-family=\"Times,serif\" font-size=\"14.00\" fill=\"#000000\">mfblock0_embedding0_fwd</text>\n",
       "</g>\n",
       "<!-- mfblock0_embedding0_fwd&#45;&gt;user -->\n",
       "<g id=\"edge1\" class=\"edge\">\n",
       "<title>mfblock0_embedding0_fwd&#45;&gt;user</title>\n",
       "<path fill=\"none\" stroke=\"#000000\" d=\"M47,-83.6321C47,-75.1148 47,-66.2539 47,-58.2088\"/>\n",
       "<polygon fill=\"#000000\" stroke=\"#000000\" points=\"47,-93.7731 42.5001,-83.773 47,-88.7731 47.0001,-83.7731 47.0001,-83.7731 47.0001,-83.7731 47,-88.7731 51.5001,-83.7731 47,-93.7731 47,-93.7731\"/>\n",
       "</g>\n",
       "<!-- mfblock0_dense0_fwd -->\n",
       "<g id=\"node3\" class=\"node\">\n",
       "<title>mfblock0_dense0_fwd</title>\n",
       "<polygon fill=\"#fb8072\" stroke=\"#000000\" points=\"150,-246 56,-246 56,-188 150,-188 150,-246\"/>\n",
       "<text text-anchor=\"middle\" x=\"103\" y=\"-219.8\" font-family=\"Times,serif\" font-size=\"14.00\" fill=\"#000000\">FullyConnected</text>\n",
       "<text text-anchor=\"middle\" x=\"103\" y=\"-205.8\" font-family=\"Times,serif\" font-size=\"14.00\" fill=\"#000000\">64</text>\n",
       "</g>\n",
       "<!-- mfblock0_dense0_fwd&#45;&gt;mfblock0_embedding0_fwd -->\n",
       "<g id=\"edge2\" class=\"edge\">\n",
       "<title>mfblock0_dense0_fwd&#45;&gt;mfblock0_embedding0_fwd</title>\n",
       "<path fill=\"none\" stroke=\"#000000\" d=\"M80.3812,-179.0328C75.0542,-170.091 69.4571,-160.6959 64.401,-152.2088\"/>\n",
       "<polygon fill=\"#000000\" stroke=\"#000000\" points=\"85.5882,-187.7731 76.6042,-181.4852 83.0292,-183.4776 80.4701,-179.1821 80.4701,-179.1821 80.4701,-179.1821 83.0292,-183.4776 84.3361,-176.8789 85.5882,-187.7731 85.5882,-187.7731\"/>\n",
       "</g>\n",
       "<!-- mfblock0_embedding1_fwd -->\n",
       "<g id=\"node7\" class=\"node\">\n",
       "<title>mfblock0_embedding1_fwd</title>\n",
       "<polygon fill=\"#fccde5\" stroke=\"#000000\" points=\"206,-152 112,-152 112,-94 206,-94 206,-152\"/>\n",
       "<text text-anchor=\"middle\" x=\"159\" y=\"-118.8\" font-family=\"Times,serif\" font-size=\"14.00\" fill=\"#000000\">mfblock0_embedding1_fwd</text>\n",
       "</g>\n",
       "<!-- mfblock0_dense0_fwd&#45;&gt;mfblock0_embedding1_fwd -->\n",
       "<g id=\"edge6\" class=\"edge\">\n",
       "<title>mfblock0_dense0_fwd&#45;&gt;mfblock0_embedding1_fwd</title>\n",
       "<path fill=\"none\" stroke=\"#000000\" d=\"M125.6188,-179.0328C130.9458,-170.091 136.5429,-160.6959 141.599,-152.2088\"/>\n",
       "<polygon fill=\"#000000\" stroke=\"#000000\" points=\"120.4118,-187.7731 121.6639,-176.8789 122.9708,-183.4776 125.5299,-179.1821 125.5299,-179.1821 125.5299,-179.1821 122.9708,-183.4776 129.3958,-181.4852 120.4118,-187.7731 120.4118,-187.7731\"/>\n",
       "</g>\n",
       "<!-- mfblock0_dense0_relu_fwd -->\n",
       "<g id=\"node4\" class=\"node\">\n",
       "<title>mfblock0_dense0_relu_fwd</title>\n",
       "<polygon fill=\"#ffffb3\" stroke=\"#000000\" points=\"150,-340 56,-340 56,-282 150,-282 150,-340\"/>\n",
       "<text text-anchor=\"middle\" x=\"103\" y=\"-313.8\" font-family=\"Times,serif\" font-size=\"14.00\" fill=\"#000000\">Activation</text>\n",
       "<text text-anchor=\"middle\" x=\"103\" y=\"-299.8\" font-family=\"Times,serif\" font-size=\"14.00\" fill=\"#000000\">relu</text>\n",
       "</g>\n",
       "<!-- mfblock0_dense0_relu_fwd&#45;&gt;mfblock0_dense0_fwd -->\n",
       "<g id=\"edge3\" class=\"edge\">\n",
       "<title>mfblock0_dense0_relu_fwd&#45;&gt;mfblock0_dense0_fwd</title>\n",
       "<path fill=\"none\" stroke=\"#000000\" d=\"M96.3297,-271.6321C96.1504,-263.1148 96.2736,-254.2539 96.6996,-246.2088\"/>\n",
       "<polygon fill=\"#000000\" stroke=\"#000000\" points=\"96.6987,-281.7731 91.838,-271.9433 96.5168,-276.7764 96.335,-271.7797 96.335,-271.7797 96.335,-271.7797 96.5168,-276.7764 100.832,-271.6161 96.6987,-281.7731 96.6987,-281.7731\"/>\n",
       "</g>\n",
       "<!-- mfblock0_dense0_relu_fwd&#45;&gt;mfblock0_dense0_fwd -->\n",
       "<g id=\"edge7\" class=\"edge\">\n",
       "<title>mfblock0_dense0_relu_fwd&#45;&gt;mfblock0_dense0_fwd</title>\n",
       "<path fill=\"none\" stroke=\"#000000\" d=\"M109.6703,-271.6321C109.8496,-263.1148 109.7264,-254.2539 109.3004,-246.2088\"/>\n",
       "<polygon fill=\"#000000\" stroke=\"#000000\" points=\"109.3013,-281.7731 105.168,-271.6161 109.4832,-276.7764 109.665,-271.7797 109.665,-271.7797 109.665,-271.7797 109.4832,-276.7764 114.162,-271.9433 109.3013,-281.7731 109.3013,-281.7731\"/>\n",
       "</g>\n",
       "<!-- mfblock0_dropout0_fwd -->\n",
       "<g id=\"node5\" class=\"node\">\n",
       "<title>mfblock0_dropout0_fwd</title>\n",
       "<polygon fill=\"#fccde5\" stroke=\"#000000\" points=\"150,-434 56,-434 56,-376 150,-376 150,-434\"/>\n",
       "<text text-anchor=\"middle\" x=\"103\" y=\"-400.8\" font-family=\"Times,serif\" font-size=\"14.00\" fill=\"#000000\">mfblock0_dropout0_fwd</text>\n",
       "</g>\n",
       "<!-- mfblock0_dropout0_fwd&#45;&gt;mfblock0_dense0_relu_fwd -->\n",
       "<g id=\"edge4\" class=\"edge\">\n",
       "<title>mfblock0_dropout0_fwd&#45;&gt;mfblock0_dense0_relu_fwd</title>\n",
       "<path fill=\"none\" stroke=\"#000000\" d=\"M96.3297,-365.6321C96.1504,-357.1148 96.2736,-348.2539 96.6996,-340.2088\"/>\n",
       "<polygon fill=\"#000000\" stroke=\"#000000\" points=\"96.6987,-375.7731 91.838,-365.9433 96.5168,-370.7764 96.335,-365.7797 96.335,-365.7797 96.335,-365.7797 96.5168,-370.7764 100.832,-365.6161 96.6987,-375.7731 96.6987,-375.7731\"/>\n",
       "</g>\n",
       "<!-- mfblock0_dropout0_fwd&#45;&gt;mfblock0_dense0_relu_fwd -->\n",
       "<g id=\"edge8\" class=\"edge\">\n",
       "<title>mfblock0_dropout0_fwd&#45;&gt;mfblock0_dense0_relu_fwd</title>\n",
       "<path fill=\"none\" stroke=\"#000000\" d=\"M109.6703,-365.6321C109.8496,-357.1148 109.7264,-348.2539 109.3004,-340.2088\"/>\n",
       "<polygon fill=\"#000000\" stroke=\"#000000\" points=\"109.3013,-375.7731 105.168,-365.6161 109.4832,-370.7764 109.665,-365.7797 109.665,-365.7797 109.665,-365.7797 109.4832,-370.7764 114.162,-365.9433 109.3013,-375.7731 109.3013,-375.7731\"/>\n",
       "</g>\n",
       "<!-- item -->\n",
       "<g id=\"node6\" class=\"node\">\n",
       "<title>item</title>\n",
       "<ellipse fill=\"#8dd3c7\" stroke=\"#000000\" cx=\"159\" cy=\"-29\" rx=\"47\" ry=\"29\"/>\n",
       "<text text-anchor=\"middle\" x=\"159\" y=\"-24.8\" font-family=\"Times,serif\" font-size=\"14.00\" fill=\"#000000\">item</text>\n",
       "</g>\n",
       "<!-- mfblock0_embedding1_fwd&#45;&gt;item -->\n",
       "<g id=\"edge5\" class=\"edge\">\n",
       "<title>mfblock0_embedding1_fwd&#45;&gt;item</title>\n",
       "<path fill=\"none\" stroke=\"#000000\" d=\"M159,-83.6321C159,-75.1148 159,-66.2539 159,-58.2088\"/>\n",
       "<polygon fill=\"#000000\" stroke=\"#000000\" points=\"159,-93.7731 154.5001,-83.773 159,-88.7731 159.0001,-83.7731 159.0001,-83.7731 159.0001,-83.7731 159,-88.7731 163.5001,-83.7731 159,-93.7731 159,-93.7731\"/>\n",
       "</g>\n",
       "<!-- mfblock0__mul0 -->\n",
       "<g id=\"node8\" class=\"node\">\n",
       "<title>mfblock0__mul0</title>\n",
       "<polygon fill=\"#fccde5\" stroke=\"#000000\" points=\"150,-528 56,-528 56,-470 150,-470 150,-528\"/>\n",
       "<text text-anchor=\"middle\" x=\"103\" y=\"-494.8\" font-family=\"Times,serif\" font-size=\"14.00\" fill=\"#000000\">mfblock0__mul0</text>\n",
       "</g>\n",
       "<!-- mfblock0__mul0&#45;&gt;mfblock0_dropout0_fwd -->\n",
       "<g id=\"edge9\" class=\"edge\">\n",
       "<title>mfblock0__mul0&#45;&gt;mfblock0_dropout0_fwd</title>\n",
       "<path fill=\"none\" stroke=\"#000000\" d=\"M96.3297,-459.6321C96.1504,-451.1148 96.2736,-442.2539 96.6996,-434.2088\"/>\n",
       "<polygon fill=\"#000000\" stroke=\"#000000\" points=\"96.6987,-469.7731 91.838,-459.9433 96.5168,-464.7764 96.335,-459.7797 96.335,-459.7797 96.335,-459.7797 96.5168,-464.7764 100.832,-459.6161 96.6987,-469.7731 96.6987,-469.7731\"/>\n",
       "</g>\n",
       "<!-- mfblock0__mul0&#45;&gt;mfblock0_dropout0_fwd -->\n",
       "<g id=\"edge10\" class=\"edge\">\n",
       "<title>mfblock0__mul0&#45;&gt;mfblock0_dropout0_fwd</title>\n",
       "<path fill=\"none\" stroke=\"#000000\" d=\"M109.6703,-459.6321C109.8496,-451.1148 109.7264,-442.2539 109.3004,-434.2088\"/>\n",
       "<polygon fill=\"#000000\" stroke=\"#000000\" points=\"109.3013,-469.7731 105.168,-459.6161 109.4832,-464.7764 109.665,-459.7797 109.665,-459.7797 109.665,-459.7797 109.4832,-464.7764 114.162,-459.9433 109.3013,-469.7731 109.3013,-469.7731\"/>\n",
       "</g>\n",
       "<!-- mfblock0_sum0 -->\n",
       "<g id=\"node9\" class=\"node\">\n",
       "<title>mfblock0_sum0</title>\n",
       "<polygon fill=\"#fccde5\" stroke=\"#000000\" points=\"150,-622 56,-622 56,-564 150,-564 150,-622\"/>\n",
       "<text text-anchor=\"middle\" x=\"103\" y=\"-588.8\" font-family=\"Times,serif\" font-size=\"14.00\" fill=\"#000000\">mfblock0_sum0</text>\n",
       "</g>\n",
       "<!-- mfblock0_sum0&#45;&gt;mfblock0__mul0 -->\n",
       "<g id=\"edge11\" class=\"edge\">\n",
       "<title>mfblock0_sum0&#45;&gt;mfblock0__mul0</title>\n",
       "<path fill=\"none\" stroke=\"#000000\" d=\"M103,-553.6321C103,-545.1148 103,-536.2539 103,-528.2088\"/>\n",
       "<polygon fill=\"#000000\" stroke=\"#000000\" points=\"103,-563.7731 98.5001,-553.773 103,-558.7731 103.0001,-553.7731 103.0001,-553.7731 103.0001,-553.7731 103,-558.7731 107.5001,-553.7731 103,-563.7731 103,-563.7731\"/>\n",
       "</g>\n",
       "</g>\n",
       "</svg>\n"
      ],
      "text/plain": [
       "<graphviz.dot.Digraph at 0x105d2e9b0>"
      ]
     },
     "execution_count": 9,
     "metadata": {},
     "output_type": "execute_result"
    }
   ],
   "source": [
    "input_sym1 = mx.sym.var('user')\n",
    "input_sym2 = mx.sym.var('item')\n",
    "output_sym = net(input_sym1, input_sym2)\n",
    "mx.viz.plot_network(output_sym, )"
   ]
  },
  {
   "cell_type": "markdown",
   "metadata": {
    "slideshow": {
     "slide_type": "slide"
    }
   },
   "source": [
    "# Loss Function"
   ]
  },
  {
   "cell_type": "code",
   "execution_count": 10,
   "metadata": {
    "slideshow": {
     "slide_type": "fragment"
    }
   },
   "outputs": [],
   "source": [
    "loss_function = gluon.loss.L2Loss()"
   ]
  },
  {
   "cell_type": "markdown",
   "metadata": {
    "slideshow": {
     "slide_type": "slide"
    }
   },
   "source": [
    "# Initializer"
   ]
  },
  {
   "cell_type": "code",
   "execution_count": 11,
   "metadata": {
    "slideshow": {
     "slide_type": "fragment"
    }
   },
   "outputs": [],
   "source": [
    "net.collect_params().initialize(mx.init.Xavier(magnitude=2.24), ctx=ctx, force_reinit=True)"
   ]
  },
  {
   "cell_type": "markdown",
   "metadata": {
    "slideshow": {
     "slide_type": "slide"
    }
   },
   "source": [
    "# Optimizer"
   ]
  },
  {
   "cell_type": "code",
   "execution_count": 12,
   "metadata": {
    "slideshow": {
     "slide_type": "fragment"
    }
   },
   "outputs": [],
   "source": [
    "trainer = gluon.Trainer(net.collect_params(), opt,\n",
    "                        {'learning_rate': lr, 'wd': wd, 'momentum': 0.9})"
   ]
  },
  {
   "cell_type": "markdown",
   "metadata": {
    "slideshow": {
     "slide_type": "slide"
    }
   },
   "source": [
    "# DataLoader"
   ]
  },
  {
   "cell_type": "code",
   "execution_count": 13,
   "metadata": {
    "slideshow": {
     "slide_type": "fragment"
    }
   },
   "outputs": [],
   "source": [
    "train_data_iter = gluon.data.DataLoader(SparseMatrixDataset(train_data, train_label), \n",
    "                                        shuffle=True, batch_size=batch_size)\n",
    "test_data_iter = gluon.data.DataLoader(SparseMatrixDataset(test_data, test_label),\n",
    "                                          shuffle=True, batch_size=batch_size)"
   ]
  },
  {
   "cell_type": "markdown",
   "metadata": {
    "slideshow": {
     "slide_type": "slide"
    }
   },
   "source": [
    "# Network Evaluator"
   ]
  },
  {
   "cell_type": "code",
   "execution_count": 14,
   "metadata": {
    "slideshow": {
     "slide_type": "fragment"
    }
   },
   "outputs": [],
   "source": [
    "def eval_net(data, net):\n",
    "    accs = [mx.metric.RMSE(), mx.metric.Accuracy()]\n",
    "    acc = mx.metric.CompositeEvalMetric()\n",
    "    for i in accs:\n",
    "        acc.add(i)\n",
    "    for i, (user, item, label) in enumerate(data):\n",
    "        user = user.as_in_context(ctx).reshape((batch_size,))\n",
    "        item = item.as_in_context(ctx).reshape((batch_size,))\n",
    "        label = label.as_in_context(ctx).reshape((batch_size,))\n",
    "        predictions = net(user, item)\n",
    "        loss = loss_function(predictions, label)\n",
    "        acc.update(preds=predictions, labels=label)\n",
    "    return acc"
   ]
  },
  {
   "cell_type": "markdown",
   "metadata": {
    "slideshow": {
     "slide_type": "slide"
    }
   },
   "source": [
    "# Training"
   ]
  },
  {
   "cell_type": "code",
   "execution_count": 15,
   "metadata": {
    "slideshow": {
     "slide_type": "fragment"
    }
   },
   "outputs": [],
   "source": [
    "epochs = 5\n",
    "\n",
    "def train(data_iter, net):\n",
    "    for e in range(epochs):\n",
    "        print(\"epoch: {}\".format(e))\n",
    "        for i, (user, item, label) in enumerate(train_data_iter):\n",
    "            user = user.as_in_context(ctx).reshape((batch_size,))\n",
    "            item = item.as_in_context(ctx).reshape((batch_size,))\n",
    "            label = label.as_in_context(ctx).reshape((batch_size,))\n",
    "            with mx.autograd.record():\n",
    "                output = net(user, item)               \n",
    "                loss = loss_function(output, label)\n",
    "                loss.backward()\n",
    "            net.collect_params().values()\n",
    "            trainer.step(batch_size)\n",
    "        print(\"EPOCH {}: RMSE ON TRAINING and TEST: {}. {}\".format(e,\n",
    "                                                                   eval_net(train_data_iter, net),\n",
    "                                                                   eval_net(test_data_iter, net)))\n",
    "    return \"end of training\""
   ]
  },
  {
   "cell_type": "code",
   "execution_count": 16,
   "metadata": {
    "slideshow": {
     "slide_type": "fragment"
    }
   },
   "outputs": [
    {
     "name": "stdout",
     "output_type": "stream",
     "text": [
      "epoch: 0\n",
      "EPOCH 0: RMSE ON TRAINING and TEST: EvalMetric: {'rmse': 0.9392852280661463, 'accuracy': 0.3504875}. EvalMetric: {'rmse': 0.9784612037241459, 'accuracy': 0.33805}\n",
      "epoch: 1\n",
      "EPOCH 1: RMSE ON TRAINING and TEST: EvalMetric: {'rmse': 0.9231046421080827, 'accuracy': 0.33245}. EvalMetric: {'rmse': 0.9639356683194638, 'accuracy': 0.32335}\n",
      "epoch: 2\n",
      "EPOCH 2: RMSE ON TRAINING and TEST: EvalMetric: {'rmse': 0.9361719639226794, 'accuracy': 0.3702625}. EvalMetric: {'rmse': 0.97912513256073, 'accuracy': 0.35585}\n",
      "epoch: 3\n",
      "EPOCH 3: RMSE ON TRAINING and TEST: EvalMetric: {'rmse': 0.9158426959812641, 'accuracy': 0.3394625}. EvalMetric: {'rmse': 0.9589316019415856, 'accuracy': 0.3311}\n",
      "epoch: 4\n",
      "EPOCH 4: RMSE ON TRAINING and TEST: EvalMetric: {'rmse': 0.91513403121382, 'accuracy': 0.306575}. EvalMetric: {'rmse': 0.9559863702952862, 'accuracy': 0.30125}\n"
     ]
    },
    {
     "data": {
      "text/plain": [
       "'end of training'"
      ]
     },
     "execution_count": 16,
     "metadata": {},
     "output_type": "execute_result"
    }
   ],
   "source": [
    "train(train_data_iter, net)"
   ]
  },
  {
   "cell_type": "code",
   "execution_count": 23,
   "metadata": {},
   "outputs": [],
   "source": [
    "def recommend_k_items_for_user(user_id, k=10):\n",
    "    all_user = [1] * max_items\n",
    "    all_items = list(range(1, max_items + 1))\n",
    "    output = net(mx.nd.array(all_user), mx.nd.array(all_items))\n",
    "    predictions = mx.nd.topk(output, k=k, is_ascend=False) + 1\n",
    "    return predictions"
   ]
  },
  {
   "cell_type": "code",
   "execution_count": 24,
   "metadata": {},
   "outputs": [
    {
     "data": {
      "text/plain": [
       "\n",
       "[169. 408. 318. 357. 483. 127.  12. 174. 480. 313.]\n",
       "<NDArray 10 @cpu(0)>"
      ]
     },
     "execution_count": 24,
     "metadata": {},
     "output_type": "execute_result"
    }
   ],
   "source": [
    "recommend_k_items_for_user(10)"
   ]
  }
 ],
 "metadata": {
  "celltoolbar": "Slideshow",
  "kernelspec": {
   "display_name": "Python 3",
   "language": "python",
   "name": "python3"
  },
  "language_info": {
   "codemirror_mode": {
    "name": "ipython",
    "version": 3
   },
   "file_extension": ".py",
   "mimetype": "text/x-python",
   "name": "python",
   "nbconvert_exporter": "python",
   "pygments_lexer": "ipython3",
   "version": "3.6.4"
  }
 },
 "nbformat": 4,
 "nbformat_minor": 2
}
